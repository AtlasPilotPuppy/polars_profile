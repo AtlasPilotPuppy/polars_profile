{
 "cells": [
  {
   "cell_type": "code",
   "execution_count": 1,
   "metadata": {},
   "outputs": [],
   "source": [
    "import polars as pl\n",
    "from polars_profile import profile"
   ]
  },
  {
   "cell_type": "code",
   "execution_count": 2,
   "metadata": {},
   "outputs": [
    {
     "data": {
      "text/html": [
       "<div><style>\n",
       ".dataframe > thead > tr,\n",
       ".dataframe > tbody > tr {\n",
       "  text-align: right;\n",
       "  white-space: pre-wrap;\n",
       "}\n",
       "</style>\n",
       "<small>shape: (29, 11)</small><table border=\"1\" class=\"dataframe\"><thead><tr><th>column</th><th>mean</th><th>min</th><th>max</th><th>median</th><th>std</th><th>mean_length</th><th>min_length</th><th>max_length</th><th>count_null</th><th>count</th></tr><tr><td>str</td><td>f64</td><td>f64</td><td>f64</td><td>f64</td><td>f64</td><td>u32</td><td>u32</td><td>u32</td><td>u32</td><td>u32</td></tr></thead><tbody><tr><td>&quot;workout_id&quot;</td><td>249.5</td><td>0.0</td><td>499.0</td><td>249.5</td><td>144.337279</td><td>null</td><td>null</td><td>null</td><td>0</td><td>500</td></tr><tr><td>&quot;slug&quot;</td><td>null</td><td>null</td><td>null</td><td>null</td><td>null</td><td>24</td><td>14</td><td>35</td><td>0</td><td>500</td></tr><tr><td>&quot;activity_weight&quot;</td><td>5.424</td><td>1.0</td><td>10.0</td><td>5.0</td><td>2.910021</td><td>null</td><td>null</td><td>null</td><td>0</td><td>500</td></tr><tr><td>&quot;google_activity&quot;</td><td>null</td><td>null</td><td>null</td><td>null</td><td>null</td><td>9</td><td>6</td><td>17</td><td>0</td><td>500</td></tr><tr><td>&quot;activity_mfp&quot;</td><td>5.8037e14</td><td>1.0117e14</td><td>9.9956e14</td><td>5.8032e14</td><td>2.5601e14</td><td>null</td><td>null</td><td>null</td><td>0</td><td>500</td></tr><tr><td>&hellip;</td><td>&hellip;</td><td>&hellip;</td><td>&hellip;</td><td>&hellip;</td><td>&hellip;</td><td>&hellip;</td><td>&hellip;</td><td>&hellip;</td><td>&hellip;</td><td>&hellip;</td></tr><tr><td>&quot;classification&quot;</td><td>null</td><td>null</td><td>null</td><td>null</td><td>null</td><td>7</td><td>6</td><td>8</td><td>0</td><td>500</td></tr><tr><td>&quot;timing_style&quot;</td><td>null</td><td>null</td><td>null</td><td>null</td><td>null</td><td>6</td><td>6</td><td>8</td><td>0</td><td>500</td></tr><tr><td>&quot;recommended_age&quot;</td><td>null</td><td>null</td><td>null</td><td>null</td><td>null</td><td>5</td><td>4</td><td>6</td><td>0</td><td>500</td></tr><tr><td>&quot;recommended_workout_lengths&quot;</td><td>null</td><td>null</td><td>null</td><td>null</td><td>null</td><td>52</td><td>52</td><td>52</td><td>0</td><td>500</td></tr><tr><td>&quot;recommended_circuits&quot;</td><td>null</td><td>null</td><td>null</td><td>null</td><td>null</td><td>0</td><td>0</td><td>0</td><td>500</td><td>500</td></tr></tbody></table></div>"
      ],
      "text/plain": [
       "shape: (29, 11)\n",
       "┌────────────┬───────────┬───────────┬───────────┬───┬────────────┬────────────┬───────────┬───────┐\n",
       "│ column     ┆ mean      ┆ min       ┆ max       ┆ … ┆ min_length ┆ max_length ┆ count_nul ┆ count │\n",
       "│ ---        ┆ ---       ┆ ---       ┆ ---       ┆   ┆ ---        ┆ ---        ┆ l         ┆ ---   │\n",
       "│ str        ┆ f64       ┆ f64       ┆ f64       ┆   ┆ u32        ┆ u32        ┆ ---       ┆ u32   │\n",
       "│            ┆           ┆           ┆           ┆   ┆            ┆            ┆ u32       ┆       │\n",
       "╞════════════╪═══════════╪═══════════╪═══════════╪═══╪════════════╪════════════╪═══════════╪═══════╡\n",
       "│ workout_id ┆ 249.5     ┆ 0.0       ┆ 499.0     ┆ … ┆ null       ┆ null       ┆ 0         ┆ 500   │\n",
       "│ slug       ┆ null      ┆ null      ┆ null      ┆ … ┆ 14         ┆ 35         ┆ 0         ┆ 500   │\n",
       "│ activity_w ┆ 5.424     ┆ 1.0       ┆ 10.0      ┆ … ┆ null       ┆ null       ┆ 0         ┆ 500   │\n",
       "│ eight      ┆           ┆           ┆           ┆   ┆            ┆            ┆           ┆       │\n",
       "│ google_act ┆ null      ┆ null      ┆ null      ┆ … ┆ 6          ┆ 17         ┆ 0         ┆ 500   │\n",
       "│ ivity      ┆           ┆           ┆           ┆   ┆            ┆            ┆           ┆       │\n",
       "│ activity_m ┆ 5.8037e14 ┆ 1.0117e14 ┆ 9.9956e14 ┆ … ┆ null       ┆ null       ┆ 0         ┆ 500   │\n",
       "│ fp         ┆           ┆           ┆           ┆   ┆            ┆            ┆           ┆       │\n",
       "│ …          ┆ …         ┆ …         ┆ …         ┆ … ┆ …          ┆ …          ┆ …         ┆ …     │\n",
       "│ classifica ┆ null      ┆ null      ┆ null      ┆ … ┆ 6          ┆ 8          ┆ 0         ┆ 500   │\n",
       "│ tion       ┆           ┆           ┆           ┆   ┆            ┆            ┆           ┆       │\n",
       "│ timing_sty ┆ null      ┆ null      ┆ null      ┆ … ┆ 6          ┆ 8          ┆ 0         ┆ 500   │\n",
       "│ le         ┆           ┆           ┆           ┆   ┆            ┆            ┆           ┆       │\n",
       "│ recommende ┆ null      ┆ null      ┆ null      ┆ … ┆ 4          ┆ 6          ┆ 0         ┆ 500   │\n",
       "│ d_age      ┆           ┆           ┆           ┆   ┆            ┆            ┆           ┆       │\n",
       "│ recommende ┆ null      ┆ null      ┆ null      ┆ … ┆ 52         ┆ 52         ┆ 0         ┆ 500   │\n",
       "│ d_workout_ ┆           ┆           ┆           ┆   ┆            ┆            ┆           ┆       │\n",
       "│ lengths    ┆           ┆           ┆           ┆   ┆            ┆            ┆           ┆       │\n",
       "│ recommende ┆ null      ┆ null      ┆ null      ┆ … ┆ 0          ┆ 0          ┆ 500       ┆ 500   │\n",
       "│ d_circuits ┆           ┆           ┆           ┆   ┆            ┆            ┆           ┆       │\n",
       "└────────────┴───────────┴───────────┴───────────┴───┴────────────┴────────────┴───────────┴───────┘"
      ]
     },
     "execution_count": 2,
     "metadata": {},
     "output_type": "execute_result"
    }
   ],
   "source": [
    "df = pl.read_csv(\"your_csv.csv\")\n",
    "df.profile()"
   ]
  }
 ],
 "metadata": {
  "kernelspec": {
   "display_name": ".venv",
   "language": "python",
   "name": "python3"
  },
  "language_info": {
   "codemirror_mode": {
    "name": "ipython",
    "version": 3
   },
   "file_extension": ".py",
   "mimetype": "text/x-python",
   "name": "python",
   "nbconvert_exporter": "python",
   "pygments_lexer": "ipython3",
   "version": "3.12.4"
  }
 },
 "nbformat": 4,
 "nbformat_minor": 2
}
